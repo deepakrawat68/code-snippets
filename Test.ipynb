{
  "nbformat": 4,
  "nbformat_minor": 0,
  "metadata": {
    "colab": {
      "name": "Test.ipynb",
      "provenance": [],
      "collapsed_sections": [],
      "include_colab_link": true
    },
    "kernelspec": {
      "name": "python3",
      "display_name": "Python 3"
    }
  },
  "cells": [
    {
      "cell_type": "markdown",
      "metadata": {
        "id": "view-in-github",
        "colab_type": "text"
      },
      "source": [
        "<a href=\"https://colab.research.google.com/github/deepakrawat68/code-snippets/blob/master/Test.ipynb\" target=\"_parent\"><img src=\"https://colab.research.google.com/assets/colab-badge.svg\" alt=\"Open In Colab\"/></a>"
      ]
    },
    {
      "cell_type": "markdown",
      "metadata": {
        "id": "UeOfNSOPQXpr"
      },
      "source": [
        "#Test notebook\n",
        "## Authors - Deepak Rawat, 10552508\n",
        "## Vijay Shinde, 10553812"
      ]
    },
    {
      "cell_type": "markdown",
      "metadata": {
        "id": "tW0_hKygJt5N"
      },
      "source": [
        "Q1"
      ]
    },
    {
      "cell_type": "code",
      "metadata": {
        "id": "Zb2nUKvD-om3",
        "outputId": "8d73f8d9-ae83-481c-cdd4-0f803f438584",
        "colab": {
          "base_uri": "https://localhost:8080/"
        }
      },
      "source": [
        "#1 Program to find area of a circle\n",
        "radius=float(input('Enter radius of circle : ')) # input radius from user\n",
        "import math # import math library for 'pi'\n",
        "area = math.pi*radius*radius  #formula for area of circle\n",
        "print('Area of the circle is : {:.3f}'.format(area))"
      ],
      "execution_count": null,
      "outputs": [
        {
          "output_type": "stream",
          "text": [
            "Enter radius of circle : 7\n",
            "Area of the circle is : 153.938\n"
          ],
          "name": "stdout"
        }
      ]
    },
    {
      "cell_type": "markdown",
      "metadata": {
        "id": "mA-WmyegJxSN"
      },
      "source": [
        "Q2\n"
      ]
    },
    {
      "cell_type": "code",
      "metadata": {
        "id": "QpmDNZ-wBIhG",
        "outputId": "f02c5684-06f5-415c-ec99-1e82b0f83926",
        "colab": {
          "base_uri": "https://localhost:8080/"
        }
      },
      "source": [
        "#2 Program to print all prime number between a range\n",
        "lower=int(input('Enter lower bound of range : '))\n",
        "upper=int(input('Enrer upper bound of ranger : '))  # took input for lower and upper bound\n",
        "print('Prime number between {} and {} are : '.format(lower, upper))\n",
        "for i in range(lower, upper+1):\n",
        "  if i>1:\n",
        "    for j in range(2,i):\n",
        "      if i%j==0:\n",
        "        break\n",
        "    else:\n",
        "      print(i)    \n",
        "#To print all prime numbers for a given range first range is taken from lower to upper+1 bound\n",
        "#checked for number is greater than 1. if true check for divisibility of number from\n",
        "#2 to number-1\n"
      ],
      "execution_count": null,
      "outputs": [
        {
          "output_type": "stream",
          "text": [
            "Enter lower bound of range : 1\n",
            "Enrer upper bound of ranger : 20\n",
            "Prime number between 1 and 20 are : \n",
            "2\n",
            "3\n",
            "5\n",
            "7\n",
            "11\n",
            "13\n",
            "17\n",
            "19\n"
          ],
          "name": "stdout"
        }
      ]
    },
    {
      "cell_type": "markdown",
      "metadata": {
        "id": "A6dlk3zRJ0J4"
      },
      "source": [
        "Q3\n"
      ]
    },
    {
      "cell_type": "code",
      "metadata": {
        "id": "IG2NGs_BA2_a",
        "outputId": "eab41924-ff36-49bb-a963-a3d7f73d3223",
        "colab": {
          "base_uri": "https://localhost:8080/"
        }
      },
      "source": [
        "#3 Program to check whether a number is prime or not\n",
        "num = int(input('Enter a number '))\n",
        "n=1\n",
        "count=0\n",
        "while n<=num:\n",
        "  if num%n==0:\n",
        "    count =count+1  #count number of factors\n",
        "  n=n+1  \n",
        "if count==2:  #if factors exactly equal to 2 the  its prime el\n",
        "   print('Prime')\n",
        "else:\n",
        "   print('Not Prime')    \n"
      ],
      "execution_count": null,
      "outputs": [
        {
          "output_type": "stream",
          "text": [
            "Enter a number 89\n",
            "Prime\n"
          ],
          "name": "stdout"
        }
      ]
    },
    {
      "cell_type": "markdown",
      "metadata": {
        "id": "WgiQ0nAHKjHd"
      },
      "source": [
        "Q4"
      ]
    },
    {
      "cell_type": "code",
      "metadata": {
        "id": "t9SENq--uNx-",
        "outputId": "7d960a60-7e7b-4e81-947e-fbba7497e49c",
        "colab": {
          "base_uri": "https://localhost:8080/"
        }
      },
      "source": [
        "#4Program for n-th Fibonacci number\n",
        "\n",
        "#iterating till the mentioned number \n",
        "def FuncFibo(n):\n",
        "  a=num=0\n",
        "  b=1\n",
        "  FibList=[]\n",
        "  FibList.append(a) #1st fibonacci\n",
        "  FibList.append(b) #2nd fibonacci\n",
        "  for x in range(1,n-1):\n",
        "    num=a+b\n",
        "    a=b\n",
        "    b=num\n",
        "    FibList.append(num) #appending till n comes\n",
        "  print(\"{} digit Fibonacci numbers\\n{}\".format(n,FibList))\n",
        "\n",
        "FuncFibo(5)"
      ],
      "execution_count": null,
      "outputs": [
        {
          "output_type": "stream",
          "text": [
            "5 digit Fibonacci numbers\n",
            "[0, 1, 1, 2, 3]\n"
          ],
          "name": "stdout"
        }
      ]
    },
    {
      "cell_type": "markdown",
      "metadata": {
        "id": "nqrVRY_1KppY"
      },
      "source": [
        "Q5"
      ]
    },
    {
      "cell_type": "code",
      "metadata": {
        "id": "rCWej-bQKfhk",
        "outputId": "181e3c32-48d5-49b1-c3c5-a90cbefc6cc3",
        "colab": {
          "base_uri": "https://localhost:8080/"
        }
      },
      "source": [
        "#5Program for Fibonacci numbers\n",
        "\n",
        "#same as above, just printed the fibonacci series\n",
        "def FuncFibo(n):\n",
        "  a=num=0\n",
        "  b=1\n",
        "  FibList=[]\n",
        "  FibList.append(a)\n",
        "  FibList.append(b)\n",
        "  for x in range(1,n-1):\n",
        "    num=a+b\n",
        "    a=b\n",
        "    b=num\n",
        "    FibList.append(num)\n",
        "  print(\"Fibonacci numbers\\n{}\".format(FibList))\n",
        "\n",
        "FuncFibo(5)"
      ],
      "execution_count": null,
      "outputs": [
        {
          "output_type": "stream",
          "text": [
            "Fibonacci numbers\n",
            "[0, 1, 1, 2, 3]\n"
          ],
          "name": "stdout"
        }
      ]
    },
    {
      "cell_type": "markdown",
      "metadata": {
        "id": "vvYI2uQxK6sd"
      },
      "source": [
        "Q6"
      ]
    },
    {
      "cell_type": "code",
      "metadata": {
        "id": "vPR5VJTuKro-",
        "outputId": "53648bd8-ccf7-463d-f78c-362a4b9db004",
        "colab": {
          "base_uri": "https://localhost:8080/"
        }
      },
      "source": [
        "#6Program for How to check if a given number is Fibonacci number?\n",
        "\n",
        "#taking the value in function\n",
        "def FuncCheckFib(n):\n",
        "  a=num=0\n",
        "  b=1\n",
        "  FibList=[]\n",
        "  FibList.append(a)\n",
        "  FibList.append(b)\n",
        "  while num<n:  #using while function to iterate fibonacci series untill the number \"n\" comes\n",
        "    num=a+b\n",
        "    a=b\n",
        "    b=num\n",
        "    FibList.append(num)\n",
        "  print(\"\\n\",FibList)\n",
        "  if n in FibList:\n",
        "    print(\"{} is a fibonacci number and comes at position {}\".format(n,FibList.index(n)+1))\n",
        "  else:\n",
        "    print(\"{} isn't a fibonacci number\".format(n))\n",
        "  \n",
        "  \n",
        "FuncCheckFib(19)\n",
        "FuncCheckFib(34)"
      ],
      "execution_count": null,
      "outputs": [
        {
          "output_type": "stream",
          "text": [
            "\n",
            " [0, 1, 1, 2, 3, 5, 8, 13, 21]\n",
            "19 isn't a fibonacci number\n",
            "\n",
            " [0, 1, 1, 2, 3, 5, 8, 13, 21, 34]\n",
            "34 is a fibonacci number and comes at position 10\n"
          ],
          "name": "stdout"
        }
      ]
    },
    {
      "cell_type": "markdown",
      "metadata": {
        "id": "4vB25nUJLGUl"
      },
      "source": [
        "Q7"
      ]
    },
    {
      "cell_type": "code",
      "metadata": {
        "id": "TGTqxij7KsGX",
        "outputId": "475b7168-2ba8-4636-d243-b88f4d2eca27",
        "colab": {
          "base_uri": "https://localhost:8080/"
        }
      },
      "source": [
        "#7Program for nth multiple of a number in Fibonacci Series\n",
        "\n",
        "#printing fibonacci number and printing number on (index+1)\n",
        "def FuncNthFib(n):\n",
        "  a=num=0\n",
        "  b=1\n",
        "  FibList=[]\n",
        "  FibList.append(a)\n",
        "  FibList.append(b)\n",
        "  for x in range(1,n):\n",
        "    num=a+b\n",
        "    a=b\n",
        "    b=num\n",
        "    FibList.append(num)\n",
        "  print(FibList)\n",
        "  print(\"5th element is: {}\".format(FibList[n-1]))\n",
        "\n",
        "\n",
        "FuncNthFib(5)"
      ],
      "execution_count": null,
      "outputs": [
        {
          "output_type": "stream",
          "text": [
            "[0, 1, 1, 2, 3, 5]\n",
            "5th element is: 3\n"
          ],
          "name": "stdout"
        }
      ]
    },
    {
      "cell_type": "markdown",
      "metadata": {
        "id": "FwDTR5vtLPaC"
      },
      "source": [
        "Q8"
      ]
    },
    {
      "cell_type": "code",
      "metadata": {
        "id": "R0m40ZfyKsT1",
        "outputId": "1ec8af86-54c1-4f55-ae49-1dedbaf7c7da",
        "colab": {
          "base_uri": "https://localhost:8080/"
        }
      },
      "source": [
        "#8Program to count Even and Odd numbers in a List\n",
        "\n",
        "#taking in a list\n",
        "def FuncCount(numList):\n",
        "  evenCount=oddCount=0\n",
        "  for x in numList:\n",
        "    if x%2 == 0:\n",
        "      print(x)\n",
        "      evenCount+=1  #remainder when divided by 2 is 0\n",
        "    else:\n",
        "      oddCount+=1 \n",
        "  print(\"Odd count:{}\\nEvencount:{}\".format(oddCount,evenCount))\n",
        "\n",
        "numList = [1, 4, 5, 7, 10, 68, 99]\n",
        "#print(numList)\n",
        "FuncCount(numList)"
      ],
      "execution_count": null,
      "outputs": [
        {
          "output_type": "stream",
          "text": [
            "4\n",
            "10\n",
            "68\n",
            "Odd count:4\n",
            "Evencount:3\n"
          ],
          "name": "stdout"
        }
      ]
    },
    {
      "cell_type": "markdown",
      "metadata": {
        "id": "E0dV2J0HLVxc"
      },
      "source": [
        "Q9 & 10\n"
      ]
    },
    {
      "cell_type": "code",
      "metadata": {
        "id": "nXi17Dc3KsfA",
        "outputId": "fd770a32-cf7b-46b0-b006-2b9e948256de",
        "colab": {
          "base_uri": "https://localhost:8080/"
        }
      },
      "source": [
        "#9Program to print positive numbers in a list\n",
        "#10Program to print negative numbers in a list\n",
        "\n",
        "def FuncSign(numList):\n",
        "  posNum=[]\n",
        "  negNum=[]\n",
        "  for x in numList:\n",
        "    if x > 0:\n",
        "      print(x)\n",
        "      posNum.append(x)  #Question 9\n",
        "    else:\n",
        "      negNum.append(x)  #Question 10\n",
        "  print(negNum)\n",
        "  print(posNum)\n",
        "\n",
        "\n",
        "numList = [1, 4, 5, 7, 10, 68, 99, -6, -7, -10]\n",
        "FuncSign(numList)"
      ],
      "execution_count": null,
      "outputs": [
        {
          "output_type": "stream",
          "text": [
            "1\n",
            "4\n",
            "5\n",
            "7\n",
            "10\n",
            "68\n",
            "99\n",
            "[-6, -7, -10]\n",
            "[1, 4, 5, 7, 10, 68, 99]\n"
          ],
          "name": "stdout"
        }
      ]
    },
    {
      "cell_type": "markdown",
      "metadata": {
        "id": "dot4rG3yJ2px"
      },
      "source": [
        "Q11"
      ]
    },
    {
      "cell_type": "code",
      "metadata": {
        "id": "naghtK6N7RNP",
        "outputId": "7ae9ba02-a9fd-44e2-b770-ff295af2a6e5",
        "colab": {
          "base_uri": "https://localhost:8080/"
        }
      },
      "source": [
        "#11 Program to print all positive numbers in a range\n",
        "\n",
        "lower = int(input('Enter Lower bound of range : '))\n",
        "upper = int (input('Enter upper bound of range :'))\n",
        "for i in range(lower, upper+1):\n",
        "  if i>0:\n",
        "    print('All positive numbers in given range are :{}'.format(i))\n"
      ],
      "execution_count": null,
      "outputs": [
        {
          "output_type": "stream",
          "text": [
            "Enter Lower bound of range : -5\n",
            "Enter upper bound of range :8\n",
            "All positive numbers in given range are :1\n",
            "All positive numbers in given range are :2\n",
            "All positive numbers in given range are :3\n",
            "All positive numbers in given range are :4\n",
            "All positive numbers in given range are :5\n",
            "All positive numbers in given range are :6\n",
            "All positive numbers in given range are :7\n",
            "All positive numbers in given range are :8\n"
          ],
          "name": "stdout"
        }
      ]
    },
    {
      "cell_type": "markdown",
      "metadata": {
        "id": "kDB5sYrcKFBX"
      },
      "source": [
        "Q12"
      ]
    },
    {
      "cell_type": "code",
      "metadata": {
        "id": "Xay-C4g98JiO",
        "outputId": "81e8b357-73c3-4912-8e03-5ed744bf91f6",
        "colab": {
          "base_uri": "https://localhost:8080/"
        }
      },
      "source": [
        "#12 Program to print all negative numbers in a range\n",
        "\n",
        "lower = int(input('Enter Lower bound of range : '))\n",
        "upper = int (input('Enter upper bound of range :'))\n",
        "for i in range(lower, upper+1):\n",
        "  if i<0:\n",
        "    print('All negative numbers in given range are :{}'.format(i))\n"
      ],
      "execution_count": null,
      "outputs": [
        {
          "output_type": "stream",
          "text": [
            "Enter Lower bound of range : -5\n",
            "Enter upper bound of range :5\n",
            "All negative numbers in given range are :-5\n",
            "All negative numbers in given range are :-4\n",
            "All negative numbers in given range are :-3\n",
            "All negative numbers in given range are :-2\n",
            "All negative numbers in given range are :-1\n"
          ],
          "name": "stdout"
        }
      ]
    },
    {
      "cell_type": "markdown",
      "metadata": {
        "id": "--YsrIv2KHq7"
      },
      "source": [
        "Q13"
      ]
    },
    {
      "cell_type": "code",
      "metadata": {
        "id": "h9QLcS2T8epe",
        "outputId": "916e81d1-0d13-4953-8216-2b982b939e7e",
        "colab": {
          "base_uri": "https://localhost:8080/"
        }
      },
      "source": [
        "#13 Program to count negative and positive nubmbers in a list\n",
        "\n",
        "lst=[-9,-5,6,-6,2,-11,99,-33,-5,-4,-7,6,8,9,4,33,55,1,2]\n",
        "pos=0\n",
        "neg=0\n",
        "for i in lst:\n",
        "  if i>0:\n",
        "    pos+=1  #count positives\n",
        "    \n",
        "  elif i<0:\n",
        "    neg+=1  #count negatives\n",
        "\n",
        "print('Number of positive numbers in list are : {}'.format(pos))\n",
        "print('Number of positive numbers in list are : {}'.format(neg))\n",
        "    "
      ],
      "execution_count": null,
      "outputs": [
        {
          "output_type": "stream",
          "text": [
            "Number of positive numbers in list are : 11\n",
            "Number of positive numbers in list are : 8\n"
          ],
          "name": "stdout"
        }
      ]
    },
    {
      "cell_type": "markdown",
      "metadata": {
        "id": "XyVtEmbpMmFo"
      },
      "source": [
        "Q14\n"
      ]
    },
    {
      "cell_type": "code",
      "metadata": {
        "id": "Frp0ebfWMkAg",
        "outputId": "ecef3efd-3806-4127-c606-7e34882bb4de",
        "colab": {
          "base_uri": "https://localhost:8080/"
        }
      },
      "source": [
        "#14Program to remove multiple elements from a list in Python\n",
        "\n",
        "def FuncSet(numList):\n",
        "  numSet=set()\n",
        "  for x in numList: #iterating throught the list\n",
        "    numSet.add(x) #adding every element into a set\n",
        "  print(numSet)\n",
        "\n",
        "numList=[2, 5, 18, 49, 6, 7, 7, 18]\n",
        "FuncSet(numList)\n"
      ],
      "execution_count": null,
      "outputs": [
        {
          "output_type": "stream",
          "text": [
            "{2, 5, 6, 7, 49, 18}\n"
          ],
          "name": "stdout"
        }
      ]
    }
  ]
}