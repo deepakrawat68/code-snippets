{
  "nbformat": 4,
  "nbformat_minor": 0,
  "metadata": {
    "colab": {
      "name": "Week2.ipynb",
      "provenance": [],
      "authorship_tag": "ABX9TyMXsDZQBvFrB6vjKKFi+mR1",
      "include_colab_link": true
    },
    "kernelspec": {
      "name": "python3",
      "display_name": "Python 3"
    }
  },
  "cells": [
    {
      "cell_type": "markdown",
      "metadata": {
        "id": "view-in-github",
        "colab_type": "text"
      },
      "source": [
        "<a href=\"https://colab.research.google.com/github/deepakrawat68/code-snippets/blob/master/Week2.ipynb\" target=\"_parent\"><img src=\"https://colab.research.google.com/assets/colab-badge.svg\" alt=\"Open In Colab\"/></a>"
      ]
    },
    {
      "cell_type": "code",
      "metadata": {
        "id": "lqtI43_YOYHr"
      },
      "source": [
        "# List\n"
      ],
      "execution_count": 1,
      "outputs": []
    },
    {
      "cell_type": "code",
      "metadata": {
        "id": "QPXB44DlR5Bi"
      },
      "source": [
        "marks = [50,60,70,90,60]\n"
      ],
      "execution_count": 2,
      "outputs": []
    },
    {
      "cell_type": "code",
      "metadata": {
        "id": "gftdvDMxSKT-",
        "outputId": "e8694160-575f-44e2-92be-eaa53c41952c",
        "colab": {
          "base_uri": "https://localhost:8080/"
        }
      },
      "source": [
        "marks[0]=\"aaa\"\n",
        "marks"
      ],
      "execution_count": 4,
      "outputs": [
        {
          "output_type": "execute_result",
          "data": {
            "text/plain": [
              "['aaa', 60, 70, 90, 60]"
            ]
          },
          "metadata": {
            "tags": []
          },
          "execution_count": 4
        }
      ]
    },
    {
      "cell_type": "code",
      "metadata": {
        "id": "GvvqSsAQSzO_",
        "outputId": "f8fe02c6-f299-4f20-e714-2b4472a6f768",
        "colab": {
          "base_uri": "https://localhost:8080/"
        }
      },
      "source": [
        "#List operations\n",
        "#Append, pop, remove, extend\n",
        "\n",
        "marks.append(80)\n",
        "marks"
      ],
      "execution_count": 5,
      "outputs": [
        {
          "output_type": "execute_result",
          "data": {
            "text/plain": [
              "['aaa', 60, 70, 90, 60, 80]"
            ]
          },
          "metadata": {
            "tags": []
          },
          "execution_count": 5
        }
      ]
    },
    {
      "cell_type": "code",
      "metadata": {
        "id": "hwM_tPVLTLBC",
        "outputId": "f1c79d63-9a84-45dd-c0b1-05798db3ef57",
        "colab": {
          "base_uri": "https://localhost:8080/"
        }
      },
      "source": [
        "height=[120,150,150,144,122,123]\n",
        "height.pop(4) #removes 4th index\n",
        "height"
      ],
      "execution_count": 6,
      "outputs": [
        {
          "output_type": "execute_result",
          "data": {
            "text/plain": [
              "[120, 150, 150, 144, 123]"
            ]
          },
          "metadata": {
            "tags": []
          },
          "execution_count": 6
        }
      ]
    },
    {
      "cell_type": "code",
      "metadata": {
        "id": "EIaPIR_3ThVZ",
        "outputId": "ac46e978-29eb-4299-beca-49539f44f256",
        "colab": {
          "base_uri": "https://localhost:8080/"
        }
      },
      "source": [
        "height.remove(150) #removes first 150 value\n",
        "height"
      ],
      "execution_count": 7,
      "outputs": [
        {
          "output_type": "execute_result",
          "data": {
            "text/plain": [
              "[120, 150, 144, 123]"
            ]
          },
          "metadata": {
            "tags": []
          },
          "execution_count": 7
        }
      ]
    },
    {
      "cell_type": "code",
      "metadata": {
        "id": "zYqxltbpTtII",
        "outputId": "c2ee36d2-68cc-4c09-8c0c-83028b84bfdb",
        "colab": {
          "base_uri": "https://localhost:8080/"
        }
      },
      "source": [
        "marks.extend(height) # add height list to marks list\n",
        "marks"
      ],
      "execution_count": 8,
      "outputs": [
        {
          "output_type": "execute_result",
          "data": {
            "text/plain": [
              "['aaa', 60, 70, 90, 60, 80, 120, 150, 144, 123]"
            ]
          },
          "metadata": {
            "tags": []
          },
          "execution_count": 8
        }
      ]
    },
    {
      "cell_type": "code",
      "metadata": {
        "id": "GqF7R2YLUfT4",
        "outputId": "22145c40-b36f-48d4-a96c-925207c62702",
        "colab": {
          "base_uri": "https://localhost:8080/",
          "height": 36
        }
      },
      "source": [
        "#List slicing\n",
        "name=\"Deepak Rawat\"\n",
        "short=name[0:6]\n",
        "short"
      ],
      "execution_count": 10,
      "outputs": [
        {
          "output_type": "execute_result",
          "data": {
            "application/vnd.google.colaboratory.intrinsic+json": {
              "type": "string"
            },
            "text/plain": [
              "'Deepak'"
            ]
          },
          "metadata": {
            "tags": []
          },
          "execution_count": 10
        }
      ]
    },
    {
      "cell_type": "code",
      "metadata": {
        "id": "-AUOVifBU5um",
        "outputId": "7d6cfb35-dc04-47fd-d359-cd31a752f52c",
        "colab": {
          "base_uri": "https://localhost:8080/"
        }
      },
      "source": [
        "short_list=marks[0:4]\n",
        "short_list"
      ],
      "execution_count": 11,
      "outputs": [
        {
          "output_type": "execute_result",
          "data": {
            "text/plain": [
              "['aaa', 60, 70, 90]"
            ]
          },
          "metadata": {
            "tags": []
          },
          "execution_count": 11
        }
      ]
    },
    {
      "cell_type": "code",
      "metadata": {
        "id": "LNvjoCNTVC6S",
        "outputId": "d95cac09-963f-4890-8623-61deea6078e6",
        "colab": {
          "base_uri": "https://localhost:8080/"
        }
      },
      "source": [
        "name1=\"deep\"\n",
        "name2=['d','e','e','p']\n",
        "slice1=name1[0:2]\n",
        "slice2=name2[0:2]\n",
        "slice1\n",
        "slice2"
      ],
      "execution_count": 16,
      "outputs": [
        {
          "output_type": "execute_result",
          "data": {
            "text/plain": [
              "['d', 'e']"
            ]
          },
          "metadata": {
            "tags": []
          },
          "execution_count": 16
        }
      ]
    },
    {
      "cell_type": "code",
      "metadata": {
        "id": "F9bS9kT9Vx6M",
        "outputId": "52d90d8c-8722-4504-b0e3-c344d5cd07f4",
        "colab": {
          "base_uri": "https://localhost:8080/"
        }
      },
      "source": [
        "type(slice1)"
      ],
      "execution_count": 17,
      "outputs": [
        {
          "output_type": "execute_result",
          "data": {
            "text/plain": [
              "str"
            ]
          },
          "metadata": {
            "tags": []
          },
          "execution_count": 17
        }
      ]
    },
    {
      "cell_type": "code",
      "metadata": {
        "id": "Oxx__P8QV2QB",
        "outputId": "a76cf5c4-6b2b-4f01-e700-12746ad8ec11",
        "colab": {
          "base_uri": "https://localhost:8080/"
        }
      },
      "source": [
        "type(slice2)"
      ],
      "execution_count": 18,
      "outputs": [
        {
          "output_type": "execute_result",
          "data": {
            "text/plain": [
              "list"
            ]
          },
          "metadata": {
            "tags": []
          },
          "execution_count": 18
        }
      ]
    },
    {
      "cell_type": "code",
      "metadata": {
        "id": "Jygf30QoV4wJ",
        "outputId": "9a69e7c2-ce9c-4eee-9cfc-4cda0c19d598",
        "colab": {
          "base_uri": "https://localhost:8080/"
        }
      },
      "source": [
        "marks2=[45,55,85,63,42]\n",
        "print(len(marks2)) #length of list marks2"
      ],
      "execution_count": 21,
      "outputs": [
        {
          "output_type": "stream",
          "text": [
            "5\n"
          ],
          "name": "stdout"
        }
      ]
    },
    {
      "cell_type": "code",
      "metadata": {
        "id": "22HBARhmWHc9",
        "outputId": "22c8b6aa-1771-4fdc-a72b-b48c68738e87",
        "colab": {
          "base_uri": "https://localhost:8080/"
        }
      },
      "source": [
        "print(sum(marks2)) #sum of all elements of marks2 list"
      ],
      "execution_count": 22,
      "outputs": [
        {
          "output_type": "stream",
          "text": [
            "290\n"
          ],
          "name": "stdout"
        }
      ]
    },
    {
      "cell_type": "code",
      "metadata": {
        "id": "uHmE8w7PWSH6",
        "outputId": "61237a76-1ff0-4cca-b95f-157156a6716c",
        "colab": {
          "base_uri": "https://localhost:8080/"
        }
      },
      "source": [
        "#Tuple\n",
        "A=()\n",
        "type(A)"
      ],
      "execution_count": 23,
      "outputs": [
        {
          "output_type": "execute_result",
          "data": {
            "text/plain": [
              "tuple"
            ]
          },
          "metadata": {
            "tags": []
          },
          "execution_count": 23
        }
      ]
    },
    {
      "cell_type": "code",
      "metadata": {
        "id": "cM5yzDwQWabK",
        "outputId": "1ddf1599-81e3-44b7-870c-95a037506e73",
        "colab": {
          "base_uri": "https://localhost:8080/"
        }
      },
      "source": [
        "A=('A',)\n",
        "type(A)"
      ],
      "execution_count": 25,
      "outputs": [
        {
          "output_type": "execute_result",
          "data": {
            "text/plain": [
              "tuple"
            ]
          },
          "metadata": {
            "tags": []
          },
          "execution_count": 25
        }
      ]
    },
    {
      "cell_type": "code",
      "metadata": {
        "id": "UarKBDkXW1Qv",
        "outputId": "a4c44124-2d87-43a5-988e-d7ab74c0dda3",
        "colab": {
          "base_uri": "https://localhost:8080/"
        }
      },
      "source": [
        "marks3=(45,84,63,59)\n",
        "type(marks3)"
      ],
      "execution_count": 26,
      "outputs": [
        {
          "output_type": "execute_result",
          "data": {
            "text/plain": [
              "tuple"
            ]
          },
          "metadata": {
            "tags": []
          },
          "execution_count": 26
        }
      ]
    },
    {
      "cell_type": "code",
      "metadata": {
        "id": "QqrCik9JXA7o",
        "outputId": "92701f74-d137-4457-ab5c-0759febea0c4",
        "colab": {
          "base_uri": "https://localhost:8080/",
          "height": 174
        }
      },
      "source": [
        "marks3[0]=45 #tuples are immutables\n"
      ],
      "execution_count": 29,
      "outputs": [
        {
          "output_type": "error",
          "ename": "TypeError",
          "evalue": "ignored",
          "traceback": [
            "\u001b[0;31m---------------------------------------------------------------------------\u001b[0m",
            "\u001b[0;31mTypeError\u001b[0m                                 Traceback (most recent call last)",
            "\u001b[0;32m<ipython-input-29-aded72105bb8>\u001b[0m in \u001b[0;36m<module>\u001b[0;34m()\u001b[0m\n\u001b[0;32m----> 1\u001b[0;31m \u001b[0mmarks3\u001b[0m\u001b[0;34m[\u001b[0m\u001b[0;36m0\u001b[0m\u001b[0;34m]\u001b[0m\u001b[0;34m=\u001b[0m\u001b[0;36m45\u001b[0m\u001b[0;34m\u001b[0m\u001b[0;34m\u001b[0m\u001b[0m\n\u001b[0m",
            "\u001b[0;31mTypeError\u001b[0m: 'tuple' object does not support item assignment"
          ]
        }
      ]
    },
    {
      "cell_type": "code",
      "metadata": {
        "id": "lkfCeehOXL80",
        "outputId": "e947f320-1286-4ec8-90e7-cfa9b261d8f5",
        "colab": {
          "base_uri": "https://localhost:8080/"
        }
      },
      "source": [
        "#Dictionary\n",
        "\n",
        "phoneNo={'A':111,'B':222,'C':333,'D':444} #key value pairs\n",
        "phoneNo"
      ],
      "execution_count": 30,
      "outputs": [
        {
          "output_type": "execute_result",
          "data": {
            "text/plain": [
              "{'A': 111, 'B': 222, 'C': 333, 'D': 444}"
            ]
          },
          "metadata": {
            "tags": []
          },
          "execution_count": 30
        }
      ]
    },
    {
      "cell_type": "code",
      "metadata": {
        "id": "qlpYDFucXnWw",
        "outputId": "5ac9896b-f373-4e2f-f3b9-a8c151f365a8",
        "colab": {
          "base_uri": "https://localhost:8080/"
        }
      },
      "source": [
        "print(phoneNo['A'])"
      ],
      "execution_count": 31,
      "outputs": [
        {
          "output_type": "stream",
          "text": [
            "111\n"
          ],
          "name": "stdout"
        }
      ]
    },
    {
      "cell_type": "code",
      "metadata": {
        "id": "ud7ltlm6XwWH",
        "outputId": "cf9640c4-78fc-4e9f-8dc4-d0f3c5e8cfcb",
        "colab": {
          "base_uri": "https://localhost:8080/"
        }
      },
      "source": [
        "phoneNo.values()"
      ],
      "execution_count": 33,
      "outputs": [
        {
          "output_type": "execute_result",
          "data": {
            "text/plain": [
              "dict_values([111, 222, 333, 444])"
            ]
          },
          "metadata": {
            "tags": []
          },
          "execution_count": 33
        }
      ]
    },
    {
      "cell_type": "code",
      "metadata": {
        "id": "c3EtMi8mX-On",
        "outputId": "432be1ee-fefe-4ccc-f3a9-b9a722a26394",
        "colab": {
          "base_uri": "https://localhost:8080/"
        }
      },
      "source": [
        "phoneNo.keys()"
      ],
      "execution_count": 34,
      "outputs": [
        {
          "output_type": "execute_result",
          "data": {
            "text/plain": [
              "dict_keys(['A', 'B', 'C', 'D'])"
            ]
          },
          "metadata": {
            "tags": []
          },
          "execution_count": 34
        }
      ]
    },
    {
      "cell_type": "code",
      "metadata": {
        "id": "AZY1_io_YKbv",
        "outputId": "2632c8f0-cda5-4740-e32d-c90291db9c18",
        "colab": {
          "base_uri": "https://localhost:8080/"
        }
      },
      "source": [
        "phoneNo.items()"
      ],
      "execution_count": 35,
      "outputs": [
        {
          "output_type": "execute_result",
          "data": {
            "text/plain": [
              "dict_items([('A', 111), ('B', 222), ('C', 333), ('D', 444)])"
            ]
          },
          "metadata": {
            "tags": []
          },
          "execution_count": 35
        }
      ]
    },
    {
      "cell_type": "code",
      "metadata": {
        "id": "Gy7yulWLYf04",
        "outputId": "9c2a4853-b90f-4aa1-9542-6fe55b006d87",
        "colab": {
          "base_uri": "https://localhost:8080/"
        }
      },
      "source": [
        "#prepare a dictionary of phone no and serarch for a particular phone number\n",
        "\n",
        "phoneNo={'Amit':111111111,'Sam':222222222, 'Tom': 33333333, 'Bob': 55555555}\n",
        "searchItem='Tom'\n",
        "number=phoneNo[searchItem]\n",
        "print('Your search query for {} is {}'.format(searchItem,number))\n",
        "\n",
        "\n"
      ],
      "execution_count": 37,
      "outputs": [
        {
          "output_type": "stream",
          "text": [
            "Your search query for Tom is 33333333\n"
          ],
          "name": "stdout"
        }
      ]
    },
    {
      "cell_type": "code",
      "metadata": {
        "id": "prirXyQWbzKJ",
        "outputId": "8c635c8e-4b8c-4d27-fb83-f6bd525fbafb",
        "colab": {
          "base_uri": "https://localhost:8080/"
        }
      },
      "source": [
        "#Boolean\n",
        "5>6\n"
      ],
      "execution_count": 38,
      "outputs": [
        {
          "output_type": "execute_result",
          "data": {
            "text/plain": [
              "False"
            ]
          },
          "metadata": {
            "tags": []
          },
          "execution_count": 38
        }
      ]
    },
    {
      "cell_type": "code",
      "metadata": {
        "id": "JznFvuRcdeI7",
        "outputId": "b10e2fbb-6f57-4e50-a9b6-b6378c5277ec",
        "colab": {
          "base_uri": "https://localhost:8080/"
        }
      },
      "source": [
        "sum=4+(2>6)\n",
        "sum"
      ],
      "execution_count": 40,
      "outputs": [
        {
          "output_type": "execute_result",
          "data": {
            "text/plain": [
              "4"
            ]
          },
          "metadata": {
            "tags": []
          },
          "execution_count": 40
        }
      ]
    },
    {
      "cell_type": "code",
      "metadata": {
        "id": "2S_55Lu0dko8",
        "outputId": "732bb508-21c3-4806-ab7e-d1656237b8bf",
        "colab": {
          "base_uri": "https://localhost:8080/"
        }
      },
      "source": [
        "sum = 4+ (3>0)\n",
        "sum"
      ],
      "execution_count": 42,
      "outputs": [
        {
          "output_type": "execute_result",
          "data": {
            "text/plain": [
              "5"
            ]
          },
          "metadata": {
            "tags": []
          },
          "execution_count": 42
        }
      ]
    },
    {
      "cell_type": "code",
      "metadata": {
        "id": "M9DuADkFfU4M",
        "outputId": "aca45649-2d47-4c60-81e3-e2132d1de35b",
        "colab": {
          "base_uri": "https://localhost:8080/"
        }
      },
      "source": [
        "#Functions\n",
        "\n",
        "def function1():\n",
        "  a=20\n",
        "  b=30\n",
        "  print('The average of {} and {} is {}'.format(a,b, (a+b)/2))\n",
        "\n",
        "function1()\n"
      ],
      "execution_count": 52,
      "outputs": [
        {
          "output_type": "stream",
          "text": [
            "The average of 20 and 30 is 25.0\n"
          ],
          "name": "stdout"
        }
      ]
    },
    {
      "cell_type": "code",
      "metadata": {
        "id": "mFvTomnnghRI",
        "outputId": "a1e4c001-e747-4786-de49-ef468e0d6283",
        "colab": {
          "base_uri": "https://localhost:8080/"
        }
      },
      "source": [
        "def fullName(fn,ln):\n",
        "  print('My full name is {} {}'.format (fn,ln))\n",
        "\n",
        "fullName('Deepak', ' Rawat')  "
      ],
      "execution_count": 56,
      "outputs": [
        {
          "output_type": "stream",
          "text": [
            "My full name is Deepak  Rawat\n"
          ],
          "name": "stdout"
        }
      ]
    },
    {
      "cell_type": "code",
      "metadata": {
        "id": "mHQEJEE7hlYg",
        "outputId": "ba84a9c8-7cf0-4d31-cb90-e4e3f4b68ba6",
        "colab": {
          "base_uri": "https://localhost:8080/"
        }
      },
      "source": [
        "def nickNameGenerator(fn, ln):\n",
        "  fnl=int(0.4*len(fn))\n",
        "  lnl=int(0.4*len(ln))\n",
        "  nn= fn[0:fnl] + ln[0:lnl]\n",
        "  print('Your possible nick name is ',nn)\n",
        "\n",
        "nickNameGenerator('Deepak', 'Rawat')  \n"
      ],
      "execution_count": 59,
      "outputs": [
        {
          "output_type": "stream",
          "text": [
            "Your possible nick name is  DeRa\n"
          ],
          "name": "stdout"
        }
      ]
    },
    {
      "cell_type": "code",
      "metadata": {
        "id": "fTooBppljvQe",
        "outputId": "fb950e9e-ac5b-4916-d66f-e1a6327ee7ee",
        "colab": {
          "base_uri": "https://localhost:8080/"
        }
      },
      "source": [
        "#income as parameter and calculate the income tax, monthly income, <32 20%, >32 40%\n",
        "#print monthly income and tax\n",
        "\n",
        "#WAP to calculate the monthly salary and tax. the formal parameter will be annual salary\n",
        "#tax <32000 20%\n",
        "#>32000 40%\n",
        "#>60000 60%\n",
        "\n",
        "def incomeTaxCalculator(income):\n",
        "  if income<32000:\n",
        "    tax=(20/100)*income\n",
        "  elif income>32000 and income<60000:\n",
        "    tax=(40/100)*income\n",
        "  else:    \n",
        "    tax=(60/100)*income\n",
        "  monthlyIncome=income/12\n",
        "  print(\"Your monthly income is {:.2f} Euros and yearly income tax is {} Euros\".format(monthlyIncome,tax))\n",
        "\n",
        "incomeTaxCalculator(70000)    "
      ],
      "execution_count": 66,
      "outputs": [
        {
          "output_type": "stream",
          "text": [
            "Your monthly income is 5833.33 Euros and yearly income tax is 42000.0 Euros\n"
          ],
          "name": "stdout"
        }
      ]
    }
  ]
}