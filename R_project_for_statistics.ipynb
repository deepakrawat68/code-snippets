{
  "nbformat": 4,
  "nbformat_minor": 0,
  "metadata": {
    "colab": {
      "name": "R-project-for-statistics.ipynb",
      "provenance": [],
      "authorship_tag": "ABX9TyOY38fLtqnL1awH2GgcLCqm",
      "include_colab_link": true
    },
    "kernelspec": {
      "name": "ir",
      "display_name": "R"
    }
  },
  "cells": [
    {
      "cell_type": "markdown",
      "metadata": {
        "id": "view-in-github",
        "colab_type": "text"
      },
      "source": [
        "<a href=\"https://colab.research.google.com/github/deepakrawat68/code-snippets/blob/master/R_project_for_statistics.ipynb\" target=\"_parent\"><img src=\"https://colab.research.google.com/assets/colab-badge.svg\" alt=\"Open In Colab\"/></a>"
      ]
    },
    {
      "cell_type": "markdown",
      "metadata": {
        "id": "rQOjufZvxFh3"
      },
      "source": [
        "# R Programming\n"
      ]
    },
    {
      "cell_type": "code",
      "metadata": {
        "id": "RAKYz0xfw3qy",
        "outputId": "c58dde27-6b4e-4728-928c-35b1615557e0",
        "colab": {
          "base_uri": "https://localhost:8080/",
          "height": 34
        }
      },
      "source": [
        "a<-2\n",
        "a"
      ],
      "execution_count": 1,
      "outputs": [
        {
          "output_type": "display_data",
          "data": {
            "text/plain": [
              "[1] 2"
            ],
            "text/latex": "2",
            "text/markdown": "2",
            "text/html": [
              "2"
            ]
          },
          "metadata": {
            "tags": []
          }
        }
      ]
    },
    {
      "cell_type": "code",
      "metadata": {
        "id": "FhdIelnjw85t",
        "outputId": "42a50340-11e4-4e9b-ef7f-defa47e8bb5d",
        "colab": {
          "base_uri": "https://localhost:8080/",
          "height": 34
        }
      },
      "source": [
        "2+2"
      ],
      "execution_count": 2,
      "outputs": [
        {
          "output_type": "display_data",
          "data": {
            "text/plain": [
              "[1] 4"
            ],
            "text/latex": "4",
            "text/markdown": "4",
            "text/html": [
              "4"
            ]
          },
          "metadata": {
            "tags": []
          }
        }
      ]
    },
    {
      "cell_type": "code",
      "metadata": {
        "id": "ry1cc8fMx02X",
        "outputId": "545b05ef-0682-4136-94e7-cd3a909171a5",
        "colab": {
          "base_uri": "https://localhost:8080/",
          "height": 34
        }
      },
      "source": [
        "data = c(1,2,8,6,2,3,8,9,4,5,5,5,5,3,9,2,1,5,6,5,5, 4)\n",
        "xbar=mean(data)\n",
        "xbar #Mean of data"
      ],
      "execution_count": 6,
      "outputs": [
        {
          "output_type": "display_data",
          "data": {
            "text/plain": [
              "[1] 4.681818"
            ],
            "text/latex": "4.68181818181818",
            "text/markdown": "4.68181818181818",
            "text/html": [
              "4.68181818181818"
            ]
          },
          "metadata": {
            "tags": []
          }
        }
      ]
    },
    {
      "cell_type": "code",
      "metadata": {
        "id": "Ajg_Ufi4yLoB",
        "outputId": "3371a27a-916c-4fd4-9425-162ce581516d",
        "colab": {
          "base_uri": "https://localhost:8080/",
          "height": 34
        }
      },
      "source": [
        "mod=median(data)\n",
        "mod #median of data"
      ],
      "execution_count": 11,
      "outputs": [
        {
          "output_type": "display_data",
          "data": {
            "text/plain": [
              "[1] 5"
            ],
            "text/latex": "5",
            "text/markdown": "5",
            "text/html": [
              "5"
            ]
          },
          "metadata": {
            "tags": []
          }
        }
      ]
    },
    {
      "cell_type": "code",
      "metadata": {
        "id": "1ic41HvpykKS",
        "outputId": "2cc5e4ec-7b32-4c05-91f2-e5b71dd2fa14",
        "colab": {
          "base_uri": "https://localhost:8080/",
          "height": 437
        }
      },
      "source": [
        "plot(data)#scatter plot of data"
      ],
      "execution_count": 12,
      "outputs": [
        {
          "output_type": "display_data",
          "data": {
            "image/png": "[encoded data removed]",
            "text/plain": [
              "plot without title"
            ]
          },
          "metadata": {
            "tags": [],
            "image/png": {
              "width": 420,
              "height": 420
            }
          }
        }
      ]
    },
    {
      "cell_type": "code",
      "metadata": {
        "id": "qOgDHSUjyqz8",
        "outputId": "2b81fd3b-4bfc-4017-ce2d-d5a3ddbeb310",
        "colab": {
          "base_uri": "https://localhost:8080/",
          "height": 34
        }
      },
      "source": [
        "sd(data) #standard deviation of data"
      ],
      "execution_count": 14,
      "outputs": [
        {
          "output_type": "display_data",
          "data": {
            "text/plain": [
              "[1] 2.378202"
            ],
            "text/latex": "2.37820187449345",
            "text/markdown": "2.37820187449345",
            "text/html": [
              "2.37820187449345"
            ]
          },
          "metadata": {
            "tags": []
          }
        }
      ]
    },
    {
      "cell_type": "code",
      "metadata": {
        "id": "ORgFBY-hy37a",
        "outputId": "bcb5bb86-ead9-487e-bc62-6ee417bf6e42",
        "colab": {
          "base_uri": "https://localhost:8080/",
          "height": 34
        }
      },
      "source": [
        "var(data) #variance of data"
      ],
      "execution_count": 16,
      "outputs": [
        {
          "output_type": "display_data",
          "data": {
            "text/plain": [
              "[1] 5.655844"
            ],
            "text/latex": "5.65584415584416",
            "text/markdown": "5.65584415584416",
            "text/html": [
              "5.65584415584416"
            ]
          },
          "metadata": {
            "tags": []
          }
        }
      ]
    }
  ]
}